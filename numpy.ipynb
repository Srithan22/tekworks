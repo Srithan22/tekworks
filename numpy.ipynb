{
  "nbformat": 4,
  "nbformat_minor": 0,
  "metadata": {
    "colab": {
      "provenance": [],
      "include_colab_link": true
    },
    "kernelspec": {
      "name": "python3",
      "display_name": "Python 3"
    },
    "language_info": {
      "name": "python"
    }
  },
  "cells": [
    {
      "cell_type": "markdown",
      "metadata": {
        "id": "view-in-github",
        "colab_type": "text"
      },
      "source": [
        "<a href=\"https://colab.research.google.com/github/Srithan22/tekworks/blob/main/numpy.ipynb\" target=\"_parent\"><img src=\"https://colab.research.google.com/assets/colab-badge.svg\" alt=\"Open In Colab\"/></a>"
      ]
    },
    {
      "cell_type": "code",
      "execution_count": null,
      "metadata": {
        "colab": {
          "base_uri": "https://localhost:8080/"
        },
        "id": "nsLU_6afCDZP",
        "outputId": "c74ce06b-79ba-45e9-9b8d-232950eaa331"
      },
      "outputs": [
        {
          "output_type": "stream",
          "name": "stdout",
          "text": [
            "Requirement already satisfied: numpy in /usr/local/lib/python3.12/dist-packages (2.0.2)\n",
            "Requirement already satisfied: numpy in /usr/local/lib/python3.12/dist-packages (2.0.2)\n"
          ]
        }
      ],
      "source": [
        "!pip install numpy\n",
        "!pip3 install numpy\n"
      ]
    },
    {
      "cell_type": "code",
      "source": [
        "import numpy as np\n",
        "a=np.array([[1,2,3],[4,5,6]])\n",
        "b=np.array([[[1,2,3],[3,4,5]],[[2,3,4],[7,8,9]]])\n",
        "c=np.array(42)\n",
        "d=np.array([1,2,3,4])\n",
        "print(a.ndim)\n",
        "print(b.ndim)\n",
        "print(c.ndim)\n",
        "print(d.ndim)\n"
      ],
      "metadata": {
        "colab": {
          "base_uri": "https://localhost:8080/"
        },
        "id": "TNFK7j3XEJFx",
        "outputId": "839a9ff2-2c29-48e5-9341-54246485ffe6"
      },
      "execution_count": null,
      "outputs": [
        {
          "output_type": "stream",
          "name": "stdout",
          "text": [
            "2\n",
            "3\n",
            "0\n",
            "1\n"
          ]
        }
      ]
    },
    {
      "cell_type": "code",
      "source": [
        "import numpy as np\n",
        "a=np.array([[1,2,3],[4,5,6]])\n",
        "b=np.array([[[1,2,3],[3,4,5]],[[2,3,4],[7,8,9]]])\n",
        "c=np.array(42)\n",
        "d=np.array([1,2,3,4])\n",
        "print(a)\n",
        "print(b)\n",
        "print(c)\n",
        "print(d)"
      ],
      "metadata": {
        "colab": {
          "base_uri": "https://localhost:8080/"
        },
        "id": "NoBfcuSSFrv5",
        "outputId": "8b54b260-a045-40d9-8c20-acac283e3179"
      },
      "execution_count": null,
      "outputs": [
        {
          "output_type": "stream",
          "name": "stdout",
          "text": [
            "[[1 2 3]\n",
            " [4 5 6]]\n",
            "[[[1 2 3]\n",
            "  [3 4 5]]\n",
            "\n",
            " [[2 3 4]\n",
            "  [7 8 9]]]\n",
            "42\n",
            "[1 2 3 4]\n"
          ]
        }
      ]
    },
    {
      "cell_type": "code",
      "source": [
        "import numpy as np\n",
        "zeros = np.zeros((2,3))\n",
        "print(zeros)\n",
        "\n",
        "\n",
        "ones = np.ones((3,3))\n",
        "print(ones)\n",
        "\n",
        "random_array = np.random.rand(2,2)\n",
        "print(random_array)\n",
        "\n",
        "id= np.eye(3)\n",
        "print(id)\n",
        "\n",
        "range_array = np.arange(1,10,2)\n",
        "print(range_array)\n",
        "\n"
      ],
      "metadata": {
        "colab": {
          "base_uri": "https://localhost:8080/"
        },
        "id": "XTgIfD3oF1pz",
        "outputId": "434f56c5-5efd-4d07-9509-35bbe0b4b971"
      },
      "execution_count": null,
      "outputs": [
        {
          "output_type": "stream",
          "name": "stdout",
          "text": [
            "[[0. 0. 0.]\n",
            " [0. 0. 0.]]\n",
            "[[1. 1. 1.]\n",
            " [1. 1. 1.]\n",
            " [1. 1. 1.]]\n",
            "[[0.95564877 0.59197513]\n",
            " [0.87513299 0.51738358]]\n",
            "[[1. 0. 0.]\n",
            " [0. 1. 0.]\n",
            " [0. 0. 1.]]\n",
            "[1 3 5 7 9]\n"
          ]
        }
      ]
    },
    {
      "cell_type": "code",
      "source": [
        "import numpy as np\n",
        "arr=np.array([[1,2,3],[4,5,6]])\n",
        "print(\"Shape:\",arr.shape)\n",
        "print(\"size:\",arr.size)\n",
        "print(\"data type:\",arr.dtype)\n",
        "print(\"itemsize:\",arr.itemsize)\n",
        "print(\"data:\",arr.data)\n",
        "print(\"Number of dimensions:\",arr.ndim)"
      ],
      "metadata": {
        "colab": {
          "base_uri": "https://localhost:8080/"
        },
        "id": "D4vfWIjpH-Ta",
        "outputId": "64ac24be-5b3c-43cb-d92b-154faeecdabf"
      },
      "execution_count": null,
      "outputs": [
        {
          "output_type": "stream",
          "name": "stdout",
          "text": [
            "Shape: (2, 3)\n",
            "size: 6\n",
            "data type: int64\n",
            "itemsize: 8\n",
            "data: <memory at 0x7d73ff28d220>\n",
            "Number of dimensions: 2\n"
          ]
        }
      ]
    },
    {
      "cell_type": "markdown",
      "source": [
        "You are working as a Data Engineer for a smart agriculture startup that collects sensor data from multiple greenhouses.\n",
        "\n",
        "Each greenhouse has sensors that record temperature (°C) readings at different times of the day.\n",
        "You received the following data:\n",
        "Your tasks are:\n",
        "Create NumPy arrays\n",
        "Create a 2D NumPy array named temp_data to represent the temperature readings from both greenhouses.\n",
        "Print the array.\n",
        "Check array properties\n",
        "Print the shape, size, data type, and number of dimensions of temp_data.\n",
        "Add a third greenhouse\n",
        "The third greenhouse (GH3) records [21, 23, 22].\n",
        "Create a new array updated_temp_data that includes all three greenhouses.\n",
        "Generate supporting data\n",
        "Create a zeros array (2×3) called sensor_error_flags to represent whether there were any sensor errors (0 means no error).\n",
        "Create an identity matrix of size 3×3 named greenhouse_identity to uniquely identify each greenhouse.\n",
        "Display all arrays\n",
        "Print updated_temp_data, sensor_error_flags, and greenhouse_identity.\n"
      ],
      "metadata": {
        "id": "ykn9Pw0jRvPo"
      }
    },
    {
      "cell_type": "code",
      "source": [
        "import numpy as np\n",
        "gh1 = np.array([22, 24, 23])\n",
        "gh2 = np.array([25, 26, 24])\n",
        "\n",
        "temp_data = np.array([gh1, gh2])\n",
        "\n",
        "print(temp_data)\n",
        "\n",
        "print(\"\\nArray Properties:\")\n",
        "print(\"Shape:\", temp_data.shape)\n",
        "print(\"Size:\", temp_data.size)\n",
        "print(\"Data Type:\", temp_data.dtype)\n",
        "print(\"Number of Dimensions:\", temp_data.ndim)\n",
        "\n",
        "gh3 = np.array([21, 23, 22])\n",
        "updated_temp_data = np.vstack([temp_data, gh3])\n",
        "\n",
        "print(\"\\n Updated Temperature Data:\")\n",
        "print(updated_temp_data)\n",
        "\n",
        "sensor_error_flags = np.zeros((2, 3), dtype=int)\n",
        "greenhouse_identity = np.identity(3, dtype=int)\n",
        "\n",
        "\n",
        "print(\"\\n Sensor Error Flags:\")\n",
        "print(sensor_error_flags)\n",
        "\n",
        "print(\"\\n Greenhouse Identity Matrix:\")\n",
        "print(greenhouse_identity)"
      ],
      "metadata": {
        "colab": {
          "base_uri": "https://localhost:8080/"
        },
        "id": "d-p5Ipf7KAQ7",
        "outputId": "53d2d601-1d2c-4516-a4e8-90e8d930ceba"
      },
      "execution_count": null,
      "outputs": [
        {
          "output_type": "stream",
          "name": "stdout",
          "text": [
            "[[22 24 23]\n",
            " [25 26 24]]\n",
            "\n",
            "Array Properties:\n",
            "Shape: (2, 3)\n",
            "Size: 6\n",
            "Data Type: int64\n",
            "Number of Dimensions: 2\n",
            "\n",
            " Updated Temperature Data:\n",
            "[[22 24 23]\n",
            " [25 26 24]\n",
            " [21 23 22]]\n",
            "\n",
            " Sensor Error Flags:\n",
            "[[0 0 0]\n",
            " [0 0 0]]\n",
            "\n",
            " Greenhouse Identity Matrix:\n",
            "[[1 0 0]\n",
            " [0 1 0]\n",
            " [0 0 1]]\n"
          ]
        }
      ]
    },
    {
      "cell_type": "code",
      "source": [
        "import numpy as np\n",
        "arr=np.array([[10,20,30],[40,50,60]])\n",
        "print(arr[0,1])\n",
        "print(arr[1,-1])\n",
        "print(arr[0,-1])\n",
        "print(arr[0:])"
      ],
      "metadata": {
        "colab": {
          "base_uri": "https://localhost:8080/"
        },
        "id": "9fNaB7fgMyS3",
        "outputId": "46e07688-f0b2-4013-8564-800c74211534"
      },
      "execution_count": null,
      "outputs": [
        {
          "output_type": "stream",
          "name": "stdout",
          "text": [
            "20\n",
            "60\n",
            "30\n",
            "[[10 20 30]\n",
            " [40 50 60]]\n"
          ]
        }
      ]
    },
    {
      "cell_type": "markdown",
      "source": [
        "Indexing and Slicing:\n",
        "You are working as a Data Analyst at a fruit distribution company.\n",
        "\n",
        "The company stores the number of fruit boxes shipped per day (for 1 week) in a 2D NumPy array where:\n",
        "Each row represents a type of fruit.\n",
        "Each column represents a day of the week (Mon–Sun).\n",
        "\n",
        "\n",
        "Your Tasks\n",
        "Create the 2D NumPy array\n",
        "\n",
        "Create an array named shipments using the above data.\n",
        "Access single elements (Indexing):\n",
        "Get the number of Apples shipped on Wednesday.\n",
        "Get the number of Oranges shipped on Sunday.\n",
        "Access multiple elements (Slicing):\n",
        "Extract all the weekday shipments (Mon–Fri) for all fruits.\n",
        "Extract only the weekend shipments (Sat & Sun).\n",
        "Extract the shipments of Apples from Wednesday to Saturday.\n",
        "Bonus (Practice thinking):\n",
        "Replace the Saturday shipment of Apples (currently 80) with 100 using indexing.\n"
      ],
      "metadata": {
        "id": "2JqLbmJHOdiq"
      }
    },
    {
      "cell_type": "code",
      "source": [
        "import numpy as np\n",
        "\n",
        "\n",
        "shipments = np.array([\n",
        "    [50, 60, 70, 65, 75, 80, 85],   # Apples\n",
        "    [30, 35, 40, 45, 50, 55, 60],   # Oranges\n",
        "    [90, 85, 88, 92, 95, 97, 99]    # Bananas\n",
        "])\n",
        "\n",
        "print(\"Weekly Fruit Shipments (Mon–Sun):\")\n",
        "print(shipments)\n",
        "\n",
        "apples_wed = shipments[0, 2]\n",
        "oranges_sun = shipments[1, 6]\n",
        "\n",
        "print(\"\\nIndexing Results:\")\n",
        "print(\"Apples shipped on Wednesday:\", apples_wed)\n",
        "print(\"Oranges shipped on Sunday:\", oranges_sun)\n",
        "\n",
        "\n",
        "weekday_shipments = shipments[:, 0:5]  # Mon–Fri\n",
        "weekend_shipments = shipments[:, 5:7]  # Sat–Sun\n",
        "apples_wed_to_sat = shipments[0, 2:6]  # Wed–Sat for Apples\n",
        "\n",
        "print(\"\\n Weekday Shipments (Mon–Fri):\")\n",
        "print(weekday_shipments)\n",
        "\n",
        "print(\"\\nWeekend Shipments (Sat & Sun):\")\n",
        "print(weekend_shipments)\n",
        "\n",
        "print(\"\\n Apples Shipments (Wed–Sat):\")\n",
        "print(apples_wed_to_sat)\n",
        "\n",
        "print(\"\\n Updating Saturday Apples shipment from 80 to 100\")\n",
        "shipments[0, 5] = 100\n",
        "\n",
        "print(\"\\nUpdated Shipments Data:\")\n",
        "print(shipments)"
      ],
      "metadata": {
        "colab": {
          "base_uri": "https://localhost:8080/"
        },
        "id": "6-5SHFMdPLWi",
        "outputId": "a4ef6ca5-7da9-486d-95dc-e8bb67dc6e61"
      },
      "execution_count": null,
      "outputs": [
        {
          "output_type": "stream",
          "name": "stdout",
          "text": [
            "Weekly Fruit Shipments (Mon–Sun):\n",
            "[[50 60 70 65 75 80 85]\n",
            " [30 35 40 45 50 55 60]\n",
            " [90 85 88 92 95 97 99]]\n",
            "\n",
            "Indexing Results:\n",
            "Apples shipped on Wednesday: 70\n",
            "Oranges shipped on Sunday: 60\n",
            "\n",
            " Weekday Shipments (Mon–Fri):\n",
            "[[50 60 70 65 75]\n",
            " [30 35 40 45 50]\n",
            " [90 85 88 92 95]]\n",
            "\n",
            "Weekend Shipments (Sat & Sun):\n",
            "[[80 85]\n",
            " [55 60]\n",
            " [97 99]]\n",
            "\n",
            " Apples Shipments (Wed–Sat):\n",
            "[70 65 75 80]\n",
            "\n",
            " Updating Saturday Apples shipment from 80 to 100\n",
            "\n",
            "Updated Shipments Data:\n",
            "[[ 50  60  70  65  75 100  85]\n",
            " [ 30  35  40  45  50  55  60]\n",
            " [ 90  85  88  92  95  97  99]]\n"
          ]
        }
      ]
    },
    {
      "cell_type": "markdown",
      "source": [
        "\n",
        "Arithmetic"
      ],
      "metadata": {
        "id": "AGZ4-qGeXeE2"
      }
    },
    {
      "cell_type": "code",
      "source": [
        "\n",
        "import numpy as np\n",
        "a = np.array([1,2,3,4])\n",
        "b= np.array([5,6,7,8])\n",
        "print(a+b)#element wise\n",
        "print(a*b)#elementwise multiplication\n",
        "print(a*2)#scalar multiplication\n",
        "\n",
        "#matrix operation\n",
        "m1 =np.array([[1,2],[3,4]])\n",
        "m2 =np.array([[5,6],[7,8]])\n",
        "r=np.dot(m1,m2)\n",
        "print(r)"
      ],
      "metadata": {
        "colab": {
          "base_uri": "https://localhost:8080/"
        },
        "id": "wHVDVmtUW5wx",
        "outputId": "b3306474-e4a2-4d3f-9100-76789e180b56"
      },
      "execution_count": null,
      "outputs": [
        {
          "output_type": "stream",
          "name": "stdout",
          "text": [
            "[ 6  8 10 12]\n",
            "[ 5 12 21 32]\n",
            "[2 4 6 8]\n",
            "[[19 22]\n",
            " [43 50]]\n"
          ]
        }
      ]
    },
    {
      "cell_type": "markdown",
      "source": [
        "NumPy automatically applies operations across arrays of different shapes and sizes through a mechanism called broadcasting, which allows element-wise operations without the need for explicit looping."
      ],
      "metadata": {
        "id": "s18-iSynZCJe"
      }
    },
    {
      "cell_type": "code",
      "source": [
        "a=np.array([1,2,3])\n",
        "b=2\n",
        "print(a+b)"
      ],
      "metadata": {
        "colab": {
          "base_uri": "https://localhost:8080/"
        },
        "id": "bDs4Vm3TZE4v",
        "outputId": "e7561218-8aa1-4c01-e53e-885a80b03b88"
      },
      "execution_count": null,
      "outputs": [
        {
          "output_type": "stream",
          "name": "stdout",
          "text": [
            "[3 4 5]\n"
          ]
        }
      ]
    },
    {
      "cell_type": "markdown",
      "source": [
        "1. Arithmetic ufuncs\n",
        "Operate element-wise on arrays.\n",
        "np.add(x, y)\n",
        "np.subtract(x, y)\n",
        "np.multiply(x, y)\n",
        "np.divide(x, y)\n",
        "np.power(x, y)\n",
        "np.mod(x, y)\n",
        "🔹 2. Exponential and Logarithmic ufuncs\n",
        "(You already covered these)\n",
        "np.exp(x)\n",
        "np.log(x)\n",
        "np.log10(x)\n",
        "np.log2(x)\n",
        "np.expm1(x)    # exp(x) - 1\n",
        "🔹 3. Trigonometric ufuncs\n",
        "np.sin(x)\n",
        "np.cos(x)\n",
        "np.tan(x)\n",
        "np.arcsin(x)\n",
        "np.arccos(x)\n",
        "np.arctan(x)\n",
        "np.degrees(x)\n",
        "np.radians(x)\n",
        "🔹 4. Rounding ufuncs\n",
        "np.round(x)\n",
        "np.floor(x)\n",
        "np.ceil(x)\n",
        "np.trunc(x)\n",
        "🔹 5. Statistical ufuncs\n",
        "(Operate along an axis or entire array)\n",
        "np.min(x)\n",
        "np.max(x)\n",
        "np.mean(x)\n",
        "np.std(x)\n",
        "np.var(x)\n",
        "np.sum(x)\n",
        "np.prod(x)\n",
        "🔹 6. Logical ufuncs\n",
        "np.logical_and(x, y)\n",
        "np.logical_or(x, y)\n",
        "np.logical_not(x)\n",
        "np.logical_xor(x, y)\n",
        "🔹 7. Comparison ufuncs\n",
        "(Return Boolean arrays)\n",
        "np.greater(x, y)\n",
        "np.less(x, y)\n",
        "np.equal(x, y)\n",
        "np.not_equal(x, y)\n",
        "np.greater_equal(x, y)\n",
        "np.less_equal(x, y)\n",
        "🔹 8. Bitwise ufuncs\n",
        "(Operate on integers)\n",
        "np.bitwise_and(x, y)\n",
        "np.bitwise_or(x, y)\n",
        "np.bitwise_xor(x, y)\n",
        "np.i"
      ],
      "metadata": {
        "id": "B1__ERznaNTx"
      }
    },
    {
      "cell_type": "code",
      "source": [
        "import numpy as np\n",
        "\n",
        "x = np.array([[1,2],[3,4]])\n",
        "y = np.array([[5,6],[7,8]])\n",
        "\n",
        "# Arithmetic Universal Functions\n",
        "print(\"➤ Addition of x and y:\\n\", np.add(x, y))\n",
        "print(\"➤ Subtraction of x and y:\\n\", np.subtract(x, y))\n",
        "print(\"➤ Multiplication of x and y:\\n\", np.multiply(x, y))\n",
        "print(\"➤ Division of x by y:\\n\", np.divide(x, y))\n",
        "print(\"➤ Power x^y:\\n\", np.power(x, y))\n",
        "print(\"➤ Modulus of x % y:\\n\", np.mod(x, y))\n",
        "\n",
        "# Exponential and Log Universal Functions\n",
        "print(\"\\n➤ Exponential of x (e^x):\\n\", np.exp(x))\n",
        "print(\"➤ Natural log of x (ln x):\\n\", np.log(x))\n",
        "print(\"➤ Base-10 log of x:\\n\", np.log10(x))\n",
        "print(\"➤ Base-2 log of x:\\n\", np.log2(x))\n",
        "print(\"➤ Exponential minus 1 of x (e^x - 1):\\n\", np.expm1(x))\n",
        "\n",
        "# Trigonometric Universal Functions\n",
        "print(\"\\n➤ Sine of x:\\n\", np.sin(x))\n",
        "print(\"➤ Cosine of x:\\n\", np.cos(x))\n",
        "print(\"➤ Tangent of x:\\n\", np.tan(x))\n",
        "\n",
        "# For arcsin and arccos, clip x to [-1,1] to avoid warnings\n",
        "x_clipped = np.clip(x, -1, 1)\n",
        "print(\"➤ Arcsine of x (clipped):\\n\", np.arcsin(x_clipped))\n",
        "print(\"➤ Arccosine of x (clipped):\\n\", np.arccos(x_clipped))\n",
        "print(\"➤ Arctangent of x:\\n\", np.arctan(x))\n",
        "print(\"➤ Convert x from radians to degrees:\\n\", np.degrees(x))\n",
        "print(\"➤ Convert x from degrees to radians:\\n\", np.radians(x))\n",
        "\n",
        "# Rounding Universal Functions\n",
        "print(\"\\n➤ Rounded values of x:\\n\", np.round(x))\n",
        "print(\"➤ Floor values of x:\\n\", np.floor(x))\n",
        "print(\"➤ Ceil values of x:\\n\", np.ceil(x))\n",
        "print(\"➤ Truncated values of x:\\n\", np.trunc(x))\n",
        "\n",
        "# Statistical Universal Functions\n",
        "print(\"\\n➤ Minimum value in x:\\n\", np.min(x))\n",
        "print(\"➤ Maximum value in x:\\n\", np.max(x))\n",
        "print(\"➤ Mean of x:\\n\", np.mean(x))\n",
        "print(\"➤ Standard deviation of x:\\n\", np.std(x))\n",
        "print(\"➤ Variance of x:\\n\", np.var(x))\n",
        "print(\"➤ Sum of all elements in x:\\n\", np.sum(x))\n",
        "print(\"➤ Product of all elements in x:\\n\", np.prod(x))\n",
        "\n",
        "# Logical Universal Functions\n",
        "print(\"\\n➤ Logical AND of x and y:\\n\", np.logical_and(x, y))\n",
        "print(\"➤ Logical OR of x and y:\\n\", np.logical_or(x, y))\n",
        "print(\"➤ Logical NOT of x:\\n\", np.logical_not(x))\n",
        "print(\"➤ Logical XOR of x and y:\\n\", np.logical_xor(x, y))\n",
        "\n",
        "# Comparison Universal Functions\n",
        "print(\"\\n➤ x > y:\\n\", np.greater(x, y))\n",
        "print(\"➤ x < y:\\n\", np.less(x, y))\n",
        "print(\"➤ x == y:\\n\", np.equal(x, y))\n",
        "print(\"➤ x != y:\\n\", np.not_equal(x, y))\n",
        "print(\"➤ x >= y:\\n\", np.greater_equal(x, y))\n",
        "\n",
        "# Bitwise Universal Functions\n",
        "print(\"\\n➤ Bitwise AND of x and y:\\n\", np.bitwise_and(x, y))\n",
        "print(\"➤ Bitwise OR of x and y:\\n\", np.bitwise_or(x, y))\n",
        "print(\"➤ Bitwise XOR of x and y:\\n\", np.bitwise_xor(x, y))\n",
        "print(\"➤ Bitwise NOT of x:\\n\", np.invert(x))"
      ],
      "metadata": {
        "colab": {
          "base_uri": "https://localhost:8080/"
        },
        "id": "WhDRxiooacM7",
        "outputId": "d23e5298-abea-494e-f325-b64b5ac25c63"
      },
      "execution_count": null,
      "outputs": [
        {
          "output_type": "stream",
          "name": "stdout",
          "text": [
            "➤ Addition of x and y:\n",
            " [[ 6  8]\n",
            " [10 12]]\n",
            "➤ Subtraction of x and y:\n",
            " [[-4 -4]\n",
            " [-4 -4]]\n",
            "➤ Multiplication of x and y:\n",
            " [[ 5 12]\n",
            " [21 32]]\n",
            "➤ Division of x by y:\n",
            " [[0.2        0.33333333]\n",
            " [0.42857143 0.5       ]]\n",
            "➤ Power x^y:\n",
            " [[    1    64]\n",
            " [ 2187 65536]]\n",
            "➤ Modulus of x % y:\n",
            " [[1 2]\n",
            " [3 4]]\n",
            "\n",
            "➤ Exponential of x (e^x):\n",
            " [[ 2.71828183  7.3890561 ]\n",
            " [20.08553692 54.59815003]]\n",
            "➤ Natural log of x (ln x):\n",
            " [[0.         0.69314718]\n",
            " [1.09861229 1.38629436]]\n",
            "➤ Base-10 log of x:\n",
            " [[0.         0.30103   ]\n",
            " [0.47712125 0.60205999]]\n",
            "➤ Base-2 log of x:\n",
            " [[0.        1.       ]\n",
            " [1.5849625 2.       ]]\n",
            "➤ Exponential minus 1 of x (e^x - 1):\n",
            " [[ 1.71828183  6.3890561 ]\n",
            " [19.08553692 53.59815003]]\n",
            "\n",
            "➤ Sine of x:\n",
            " [[ 0.84147098  0.90929743]\n",
            " [ 0.14112001 -0.7568025 ]]\n",
            "➤ Cosine of x:\n",
            " [[ 0.54030231 -0.41614684]\n",
            " [-0.9899925  -0.65364362]]\n",
            "➤ Tangent of x:\n",
            " [[ 1.55740772 -2.18503986]\n",
            " [-0.14254654  1.15782128]]\n",
            "➤ Arcsine of x (clipped):\n",
            " [[1.57079633 1.57079633]\n",
            " [1.57079633 1.57079633]]\n",
            "➤ Arccosine of x (clipped):\n",
            " [[0. 0.]\n",
            " [0. 0.]]\n",
            "➤ Arctangent of x:\n",
            " [[0.78539816 1.10714872]\n",
            " [1.24904577 1.32581766]]\n",
            "➤ Convert x from radians to degrees:\n",
            " [[ 57.29577951 114.59155903]\n",
            " [171.88733854 229.18311805]]\n",
            "➤ Convert x from degrees to radians:\n",
            " [[0.01745329 0.03490659]\n",
            " [0.05235988 0.06981317]]\n",
            "\n",
            "➤ Rounded values of x:\n",
            " [[1 2]\n",
            " [3 4]]\n",
            "➤ Floor values of x:\n",
            " [[1. 2.]\n",
            " [3. 4.]]\n",
            "➤ Ceil values of x:\n",
            " [[1. 2.]\n",
            " [3. 4.]]\n",
            "➤ Truncated values of x:\n",
            " [[1. 2.]\n",
            " [3. 4.]]\n",
            "\n",
            "➤ Minimum value in x:\n",
            " 1\n",
            "➤ Maximum value in x:\n",
            " 4\n",
            "➤ Mean of x:\n",
            " 2.5\n",
            "➤ Standard deviation of x:\n",
            " 1.118033988749895\n",
            "➤ Variance of x:\n",
            " 1.25\n",
            "➤ Sum of all elements in x:\n",
            " 10\n",
            "➤ Product of all elements in x:\n",
            " 24\n",
            "\n",
            "➤ Logical AND of x and y:\n",
            " [[ True  True]\n",
            " [ True  True]]\n",
            "➤ Logical OR of x and y:\n",
            " [[ True  True]\n",
            " [ True  True]]\n",
            "➤ Logical NOT of x:\n",
            " [[False False]\n",
            " [False False]]\n",
            "➤ Logical XOR of x and y:\n",
            " [[False False]\n",
            " [False False]]\n",
            "\n",
            "➤ x > y:\n",
            " [[False False]\n",
            " [False False]]\n",
            "➤ x < y:\n",
            " [[ True  True]\n",
            " [ True  True]]\n",
            "➤ x == y:\n",
            " [[False False]\n",
            " [False False]]\n",
            "➤ x != y:\n",
            " [[ True  True]\n",
            " [ True  True]]\n",
            "➤ x >= y:\n",
            " [[False False]\n",
            " [False False]]\n",
            "\n",
            "➤ Bitwise AND of x and y:\n",
            " [[1 2]\n",
            " [3 0]]\n",
            "➤ Bitwise OR of x and y:\n",
            " [[ 5  6]\n",
            " [ 7 12]]\n",
            "➤ Bitwise XOR of x and y:\n",
            " [[ 4  4]\n",
            " [ 4 12]]\n",
            "➤ Bitwise NOT of x:\n",
            " [[-2 -3]\n",
            " [-4 -5]]\n"
          ]
        }
      ]
    },
    {
      "cell_type": "markdown",
      "source": [
        "You are a data engineer at a renewable-energy company that runs 3 solar farms.\n",
        "\n",
        "Each farm has 4 solar panels, and each panel reports hourly energy production (kWh) for 3 hours during a test window.\n",
        "\n",
        "Given data (raw)\n",
        "Create arrays from these values:\n",
        "production — shape (3 farms × 4 panels × 3 hours) represented as a 2D array per farm (you can stack/create as shown in tasks).\n",
        "Farm A panels (rows = panels, cols = hours):\n",
        "\n",
        "\n",
        "Tasks\n",
        "Create arrays\n",
        "Create three 2D NumPy arrays farmA, farmB, farmC (each shape (4,3)).\n",
        "Stack them into a single 3D array production_all of shape (3, 4, 3).\n",
        "Array attributes\n",
        "Print the .shape, .size, .dtype, and .ndim of production_all.\n",
        "Per-farm totals (arithmetic & aggregation)\n",
        "Use aggregation ufuncs to compute the total energy per farm (sum across panels & hours) → total_per_farm (shape (3,)).\n",
        "Compute mean, std, and var per farm.\n",
        "Per-hour matrix multiplication idea (matrix op)\n",
        "For a quick weighted estimate, create a hour_weights row vector of shape (3,) = [0.5, 1.0, 0.75] (weights for hour1, hour2, hour3).\n",
        "Compute weighted_per_panel by performing a dot product between each farm's panel-row and hour_weights to get per-panel weighted energy. (Use np.dot / matrix multiplication appropriately.)\n",
        "Broadcasting adjustments\n",
        "The operator notices a fixed calibration offset of +0.5 kWh for all panels in Farm B. Use broadcasting to add this offset to Farm B data inside production_all (without recreating whole array manually).\n",
        "Element-wise arithmetic (ufuncs: add/sub/mul/div/power/mod)\n",
        "Compute a normalized version where you:\n",
        "subtract the per-farm mean (use broadcasting),\n",
        "divide by the per-farm std (broadcasting) — i.e., z-score normalize each farm's panel-hour readings.\n",
        "Apply many ufuncs (use the ufuncs listed previously)\n",
        "\n",
        "Apply the following element-wise operations (create variables for each) on the normalized data (or a copy) and show the resulting arrays (or summaries — shape/dtype/first row) where appropriate:\n",
        "Exponential family: np.exp, np.expm1, np.log (note: handle non-positive inputs if needed), np.log10, np.log2.\n",
        "Trigonometric: np.sin, np.cos, np.tan, np.arcsin, np.arccos, np.arctan, plus np.degrees, np.radians applied appropriately.\n",
        "Rounding: np.round, np.floor, np.ceil, np.trunc.\n",
        "Comparison & logical ufuncs: create a boolean mask high_output = production_all > 20 and apply np.logical_and, np.logical_or, np.logical_not, np.logical_xor combining masks (e.g., high_output and even_hours_mask). Also use comparison ufuncs like np.greater_equal, np.less.\n",
        "Bitwise ufuncs (on integer arrays): create an integer array alerts = np.array([[1,0,1],[0,0,1],[1,1,0],[0,1,0]]) for each farm (shape match required) — then apply np.bitwise_and, np.bitwise_or, np.invert where sensible.\n",
        "Arithmetic ufuncs again: np.add, np.subtract, np.multiply, np.divide, np.power, np.mod.\n",
        "Aggregations over ufunc outputs: e.g., np.sum(np.exp(...)), np.mean(np.sin(...)).\n",
        "Broadcast-based summary table\n",
        "Use broadcasting to compute a (3,4) array panel_totals_per_farm = total per panel (sum across hours for each panel), and then compute a (3,) boolean needs_maintenance saying True if any panel in that farm has total < 40. Use np.min, np.max, np.any, np.all.\n",
        "Final KPIs (aggregation)\n",
        "Compute:\n",
        "overall_total (sum of all farms),\n",
        "peak_hour value (max across hours) and which farm & panel produced it (use np.argmax with careful unraveling),\n",
        "average_per_panel across all farms.\n",
        "\n"
      ],
      "metadata": {
        "id": "UEAW9-J0dTNQ"
      }
    },
    {
      "cell_type": "code",
      "source": [
        "import numpy as np\n",
        "\n",
        "farmA = np.array([\n",
        "    [5.2, 6.3, 5.8],\n",
        "    [6.0, 5.5, 6.1],\n",
        "    [5.8, 6.0, 5.9],\n",
        "    [6.2, 5.9, 6.0]\n",
        "])\n",
        "\n",
        "farmB = np.array([\n",
        "    [4.5, 5.0, 4.8],\n",
        "    [5.1, 4.9, 5.0],\n",
        "    [4.8, 5.2, 4.9],\n",
        "    [5.0, 5.1, 4.7]\n",
        "])\n",
        "\n",
        "farmC = np.array([\n",
        "    [6.1, 6.3, 6.0],\n",
        "    [6.0, 6.2, 6.1],\n",
        "    [5.9, 6.0, 6.2],\n",
        "    [6.2, 6.1, 6.3]\n",
        "])\n",
        "\n",
        "production_all = np.array([farmA, farmB, farmC])\n",
        "\n",
        "print(\"Production array shape:\", production_all.shape)\n",
        "print(\"Size:\", production_all.size)\n",
        "print(\"Data type:\", production_all.dtype)\n",
        "print(\"Number of dimensions:\", production_all.ndim)\n",
        "\n",
        "total_per_farm = np.sum(production_all, axis=(1,2))\n",
        "mean_per_farm = np.mean(production_all, axis=(1,2))\n",
        "std_per_farm = np.std(production_all, axis=(1,2))\n",
        "var_per_farm = np.var(production_all, axis=(1,2))\n",
        "\n",
        "print(\"\\nTotal energy per farm:\", total_per_farm)\n",
        "print(\"Mean per farm:\", mean_per_farm)\n",
        "print(\"Std per farm:\", std_per_farm)\n",
        "print(\"Variance per farm:\", var_per_farm)\n",
        "\n",
        "hour_weights = np.array([0.5, 1.0, 0.75])\n",
        "\n",
        "weighted_per_panel = np.array([np.dot(farm, hour_weights) for farm in production_all])\n",
        "print(\"\\nWeighted energy per panel (farms × panels):\\n\", weighted_per_panel)\n",
        "\n",
        "\n",
        "production_all[1] += 0.5\n",
        "print(\"\\nProduction after Farm B calibration:\\n\", production_all[1])\n",
        "\n",
        "mean_farm = np.mean(production_all, axis=(1,2), keepdims=True)\n",
        "std_farm = np.std(production_all, axis=(1,2), keepdims=True)\n",
        "\n",
        "production_norm = (production_all - mean_farm) / std_farm\n",
        "print(\"\\nNormalized production (first farm, first panel):\", production_norm[0,0,:])\n",
        "\n",
        "exp_norm = np.exp(production_norm)\n",
        "expm1_norm = np.expm1(production_norm)\n",
        "\n",
        "shift = abs(np.min(production_norm)) + 0.1  # ensures all values > 0\n",
        "log_norm = np.log(production_norm + shift)\n",
        "log10_norm = np.log10(production_norm + shift)\n",
        "log2_norm = np.log2(production_norm + shift)\n",
        "\n",
        "# Trigonometric\n",
        "sin_norm = np.sin(production_norm)\n",
        "cos_norm = np.cos(production_norm)\n",
        "tan_norm = np.tan(production_norm)\n",
        "# arcsin/arccos need [-1,1] clipping\n",
        "clipped_norm = np.clip(production_norm, -1, 1)\n",
        "arcsin_norm = np.arcsin(clipped_norm)\n",
        "arccos_norm = np.arccos(clipped_norm)\n",
        "arctan_norm = np.arctan(production_norm)\n",
        "deg_norm = np.degrees(production_norm)\n",
        "rad_norm = np.radians(production_norm)\n",
        "\n",
        "# Rounding\n",
        "round_norm = np.round(production_norm)\n",
        "floor_norm = np.floor(production_norm)\n",
        "ceil_norm = np.ceil(production_norm)\n",
        "trunc_norm = np.trunc(production_norm)\n",
        "\n",
        "# Comparison & logical\n",
        "high_output = production_all > 20\n",
        "even_hours_mask = np.array([True, False, True])  # dummy example for hour mask\n",
        "# Broadcasting even_hours_mask over panels\n",
        "even_hours_mask_broadcast = even_hours_mask[np.newaxis, np.newaxis, :]\n",
        "logical_and_mask = np.logical_and(high_output, even_hours_mask_broadcast)\n",
        "logical_or_mask = np.logical_or(high_output, even_hours_mask_broadcast)\n",
        "logical_not_mask = np.logical_not(high_output)\n",
        "logical_xor_mask = np.logical_xor(high_output, even_hours_mask_broadcast)\n",
        "\n",
        "# Bitwise (example, make integer array shape match panels × hours)\n",
        "alerts = np.array([\n",
        "    [[1,0,1],[0,0,1],[1,1,0],[0,1,0]],\n",
        "    [[1,1,0],[0,0,1],[1,0,1],[1,0,0]],\n",
        "    [[0,1,1],[1,0,1],[0,1,0],[1,1,1]]\n",
        "])\n",
        "bitwise_and_alerts = np.bitwise_and(alerts, 1)\n",
        "bitwise_or_alerts = np.bitwise_or(alerts, 1)\n",
        "bitwise_invert_alerts = np.bitwise_not(alerts)\n",
        "\n",
        "# Arithmetic ufuncs on production_all\n",
        "add_prod = np.add(production_all, 1)\n",
        "sub_prod = np.subtract(production_all, 1)\n",
        "mul_prod = np.multiply(production_all, 2)\n",
        "div_prod = np.divide(production_all, 2)\n",
        "power_prod = np.power(production_all, 2)\n",
        "mod_prod = np.mod(production_all, 2)\n",
        "\n",
        "# Aggregations on ufunc outputs\n",
        "sum_exp = np.sum(exp_norm)\n",
        "mean_sin = np.mean(sin_norm)\n",
        "\n",
        "print(\"\\nSum of exp(normalized):\", sum_exp)\n",
        "print(\"Mean of sin(normalized):\", mean_sin)\n",
        "\n",
        "\n",
        "panel_totals_per_farm = np.sum(production_all, axis=2)  # sum across hours → shape (3,4)\n",
        "needs_maintenance = np.any(panel_totals_per_farm < 40, axis=1)  # True if any panel < 40\n",
        "\n",
        "print(\"\\nPanel totals per farm:\\n\", panel_totals_per_farm)\n",
        "print(\"Needs maintenance per farm:\", needs_maintenance)\n",
        "\n",
        "overall_total = np.sum(production_all)\n",
        "peak_hour_value = np.max(production_all)\n",
        "# unravel index to farm, panel, hour\n",
        "peak_idx = np.unravel_index(np.argmax(production_all), production_all.shape)\n",
        "average_per_panel = np.mean(production_all, axis=2)  # mean across hours per panel\n",
        "\n",
        "print(\"\\nOverall total energy:\", overall_total)\n",
        "print(\"Peak hour value:\", peak_hour_value)\n",
        "print(\"Produced by farm {}, panel {}, hour {}\".format(*peak_idx))\n",
        "print(\"Average energy per panel across all farms:\\n\", average_per_panel)"
      ],
      "metadata": {
        "colab": {
          "base_uri": "https://localhost:8080/"
        },
        "id": "wHzL1Vgpdl_A",
        "outputId": "afda39dc-3ac3-404b-f6de-2b1b64f06b5f"
      },
      "execution_count": null,
      "outputs": [
        {
          "output_type": "stream",
          "name": "stdout",
          "text": [
            "Production array shape: (3, 4, 3)\n",
            "Size: 36\n",
            "Data type: float64\n",
            "Number of dimensions: 3\n",
            "\n",
            "Total energy per farm: [70.7 59.  73.4]\n",
            "Mean per farm: [5.89166667 4.91666667 6.11666667]\n",
            "Std per farm: [0.28710722 0.186339   0.12133516]\n",
            "Variance per farm: [0.08243056 0.03472222 0.01472222]\n",
            "\n",
            "Weighted energy per panel (farms × panels):\n",
            " [[13.25  13.075 13.325 13.5  ]\n",
            " [10.85  11.2   11.275 11.125]\n",
            " [13.85  13.775 13.6   13.925]]\n",
            "\n",
            "Production after Farm B calibration:\n",
            " [[5.  5.5 5.3]\n",
            " [5.6 5.4 5.5]\n",
            " [5.3 5.7 5.4]\n",
            " [5.5 5.6 5.2]]\n",
            "\n",
            "Normalized production (first farm, first panel): [-2.40908838  1.4222329  -0.31927677]\n",
            "\n",
            "Sum of exp(normalized): 54.25976936644647\n",
            "Mean of sin(normalized): 0.06601576559920956\n",
            "\n",
            "Panel totals per farm:\n",
            " [[17.3 17.6 17.7 18.1]\n",
            " [15.8 16.5 16.4 16.3]\n",
            " [18.4 18.3 18.1 18.6]]\n",
            "Needs maintenance per farm: [ True  True  True]\n",
            "\n",
            "Overall total energy: 209.1\n",
            "Peak hour value: 6.3\n",
            "Produced by farm 0, panel 0, hour 1\n",
            "Average energy per panel across all farms:\n",
            " [[5.76666667 5.86666667 5.9        6.03333333]\n",
            " [5.26666667 5.5        5.46666667 5.43333333]\n",
            " [6.13333333 6.1        6.03333333 6.2       ]]\n"
          ]
        }
      ]
    },
    {
      "cell_type": "markdown",
      "source": [
        "Reshaping\n"
      ],
      "metadata": {
        "id": "QuRyU2K213jq"
      }
    },
    {
      "cell_type": "code",
      "source": [
        "arr = np.array([1,2,3,4,5,6])\n",
        "reshaped = arr.reshape(2,3)\n",
        "print(reshaped)"
      ],
      "metadata": {
        "colab": {
          "base_uri": "https://localhost:8080/"
        },
        "id": "uqevy_Ps16Fa",
        "outputId": "2dcf0f6d-1a50-4ca2-c235-1a8689ba2306"
      },
      "execution_count": null,
      "outputs": [
        {
          "output_type": "stream",
          "name": "stdout",
          "text": [
            "[[1 2 3]\n",
            " [4 5 6]]\n"
          ]
        }
      ]
    },
    {
      "cell_type": "markdown",
      "source": [
        "stacking and splitting\n"
      ],
      "metadata": {
        "id": "PHM1cjYo3G8A"
      }
    },
    {
      "cell_type": "code",
      "source": [
        "a=np.array([1,2])\n",
        "b=np.array([3,4])\n",
        "\n",
        "#vertical stack\n",
        "print(np.vstack((a,b)))\n",
        "\n",
        "#horizontal stack\n",
        "print(np.hstack((a,b)))\n",
        "\n",
        "arr=np.array([1,2,3,4,5,6])\n",
        "#split into three parts\n",
        "print(np.array_split(arr,3))\n"
      ],
      "metadata": {
        "colab": {
          "base_uri": "https://localhost:8080/"
        },
        "id": "tSOUWx9A3Lvz",
        "outputId": "b2fb026f-fa72-4353-d40f-4696466bdc64"
      },
      "execution_count": null,
      "outputs": [
        {
          "output_type": "stream",
          "name": "stdout",
          "text": [
            "[[1 2]\n",
            " [3 4]]\n",
            "[1 2 3 4]\n",
            "[array([1, 2]), array([3, 4]), array([5, 6])]\n"
          ]
        }
      ]
    },
    {
      "cell_type": "markdown",
      "source": [
        "Advanced Indexing"
      ],
      "metadata": {
        "id": "4oIJ9Eh244zl"
      }
    },
    {
      "cell_type": "code",
      "source": [
        "#Boolean indexing\n",
        "arr =np.array([1,2,3,4,5])\n",
        "print(arr[arr>3])\n",
        "\n",
        "#fancy indexing\n",
        "arr = np.array([10,20,30,40])\n",
        "indices = [0,2]\n",
        "print(arr[indices])"
      ],
      "metadata": {
        "colab": {
          "base_uri": "https://localhost:8080/"
        },
        "id": "HctA4cch5NaF",
        "outputId": "33daaa2a-3bdc-4cc3-c618-6357a2c2002b"
      },
      "execution_count": null,
      "outputs": [
        {
          "output_type": "stream",
          "name": "stdout",
          "text": [
            "[4 5]\n",
            "[10 30]\n"
          ]
        }
      ]
    },
    {
      "cell_type": "markdown",
      "source": [
        "Copy vs view"
      ],
      "metadata": {
        "id": "lsZ-zWTZ6Ogp"
      }
    },
    {
      "cell_type": "code",
      "source": [
        "#View Shares memory\n",
        "arr=np.array([1,2,3])\n",
        "view = arr.view()\n",
        "view[0]=9\n",
        "print(arr)\n",
        "\n",
        "#copy does not share memory\n",
        "copy = arr.copy()\n",
        "copy[0]=10\n",
        "print(copy)"
      ],
      "metadata": {
        "colab": {
          "base_uri": "https://localhost:8080/"
        },
        "id": "UpjcD1cZ6RCz",
        "outputId": "09186412-075e-49f8-c822-189499e1734e"
      },
      "execution_count": null,
      "outputs": [
        {
          "output_type": "stream",
          "name": "stdout",
          "text": [
            "[9 2 3]\n",
            "[10  2  3]\n"
          ]
        }
      ]
    },
    {
      "cell_type": "markdown",
      "source": [
        "Saving and loading"
      ],
      "metadata": {
        "id": "-GZI0ia-7Frs"
      }
    },
    {
      "cell_type": "code",
      "source": [
        "#Save to a file\n",
        "arr = np.array([10,20,30])\n",
        "np.save('array.npy',arr)\n",
        "\n",
        "#load from a file\n",
        "loaded_arr = np.load('array.npy')\n",
        "print(loaded_arr)"
      ],
      "metadata": {
        "colab": {
          "base_uri": "https://localhost:8080/"
        },
        "id": "dV-5NTDu7Itm",
        "outputId": "cf78ba45-7820-42c9-8082-d454f1f229db"
      },
      "execution_count": null,
      "outputs": [
        {
          "output_type": "stream",
          "name": "stdout",
          "text": [
            "[10 20 30]\n"
          ]
        }
      ]
    },
    {
      "cell_type": "markdown",
      "source": [
        "TasksArray Creation\n",
        "Create a 1D array of numbers from 10 to 50.\n",
        "Create a 3x3 array of random numbers between 0 and 1.\n",
        "Array Attributes\n",
        "Find the shape, size, and data type of the array you created in the previous task.\n",
        "Basic Operations\n",
        "Add 5 to every element of a 1D array.\n",
        "Multiply two 2D arrays element-wise.\n",
        "Indexing and Slicing\n",
        "Create a 5x5 array of integers from 1 to 25. Extract:\n",
        "The first row.\n",
        "The last column.\n",
        "A subarray of the first three rows and first two columns.\n",
        "Aggregation\n",
        "Create a 10-element array of random integers between 10 and 100. Find:\n",
        "The maximum value.\n",
        "The minimum value.\n",
        "The mean and standard deviation.\n",
        "Reshaping\n",
        "Convert a 1D array of numbers from 1 to 12 into a 3x4 matrix.\n",
        "Broadcasting\n",
        "Create a 3x3 matrix of ones. Add a 1D array [1, 2, 3] to each row.\n",
        "Filtering\n",
        "Create a 1D array of random integers between 1 and 50. Extract all elements that are divisible by 5.\n",
        "Matrix Multiplication\n",
        "Create two 2x2 matrices and perform matrix multiplication.\n",
        "Advanced Indexing\n",
        "Given a 4x4 array, use fancy indexing to extract the diagonal elements.\n"
      ],
      "metadata": {
        "id": "_fu22wtW8SZq"
      }
    },
    {
      "cell_type": "code",
      "source": [
        "a1 = np.arange(10,51)\n",
        "print(\"1D array:\",a1)\n",
        "\n",
        "a2 =np.random.rand(3,3)\n",
        "print(a2)\n",
        "\n",
        "#Array Attributes\n",
        "print(\"Array Shape is: \",a2.shape)\n",
        "print(\"Array size \",a2.size)\n",
        "print(\"data type:\",a2.dtype)\n",
        "\n",
        "#Basic perations\n",
        "a1_plus5=a1+5\n",
        "print(a1_plus5)\n",
        "\n",
        "a2_mulby2=a2*2\n",
        "print(a2_mulby2)\n",
        "\n",
        "#indexing and slicing\n",
        "a5=np.arange(1,26).reshape(5,5)\n",
        "print(a5)\n",
        "print(a5[1,:])\n",
        "print(a5[:,-1])\n",
        "print(a5[0:3,0:2])\n",
        "\n",
        "#Aggregation\n",
        "rand_ints = np.random.randint(10,101,10)\n",
        "print( rand_ints)\n",
        "print(np.max(rand_ints))\n",
        "print(np.min(rand_ints))\n",
        "print(np.mean(rand_ints))\n",
        "print(np.std(rand_ints))\n",
        "\n",
        "#Reshaping\n",
        "a3=np.arange(1,13).reshape(3,4)\n",
        "print(a3)\n",
        "\n",
        "#Broadcasting\n",
        "a4=np.ones((3,3))\n",
        "a5=np.array([1,2,3])\n",
        "print(a4+a5)\n",
        "\n",
        "\n",
        "# Filtering\n",
        "rand = np.random.randint(1, 51,20)\n",
        "print(\"Random array:\", rand)\n",
        "print(\"Elements divisible by 5:\", rand[rand % 5 == 0])\n",
        "\n",
        "#Matrix multiplication\n",
        "matA = np.array([[1,2],[3,4]])\n",
        "matB = np.array([[5,6],[7,8]])\n",
        "mat_mult = np.matmul(matA, matB)\n",
        "print( mat_mult)\n",
        "\n",
        "#Advance Indexing\n",
        "arr4x4 = np.arange(1,17).reshape(4,4)\n",
        "diagonal = arr4x4[np.arange(4), np.arange(4)]\n",
        "print(\"\\n4x4 array:\\n\", arr4x4)\n",
        "print(\"Diagonal elements:\", diagonal)\n",
        "\n",
        "\n"
      ],
      "metadata": {
        "colab": {
          "base_uri": "https://localhost:8080/"
        },
        "id": "l6obzcox828P",
        "outputId": "801000b5-d426-4e9b-f8d0-bb0d289704f9"
      },
      "execution_count": null,
      "outputs": [
        {
          "output_type": "stream",
          "name": "stdout",
          "text": [
            "1D array: [10 11 12 13 14 15 16 17 18 19 20 21 22 23 24 25 26 27 28 29 30 31 32 33\n",
            " 34 35 36 37 38 39 40 41 42 43 44 45 46 47 48 49 50]\n",
            "[[0.70320435 0.97065013 0.19340696]\n",
            " [0.20287409 0.13367151 0.08131009]\n",
            " [0.56391681 0.49624257 0.61979043]]\n",
            "Array Shape is:  (3, 3)\n",
            "Array size  9\n",
            "data type: float64\n",
            "[15 16 17 18 19 20 21 22 23 24 25 26 27 28 29 30 31 32 33 34 35 36 37 38\n",
            " 39 40 41 42 43 44 45 46 47 48 49 50 51 52 53 54 55]\n",
            "[[1.4064087  1.94130026 0.38681392]\n",
            " [0.40574818 0.26734303 0.16262018]\n",
            " [1.12783361 0.99248514 1.23958087]]\n",
            "[[ 1  2  3  4  5]\n",
            " [ 6  7  8  9 10]\n",
            " [11 12 13 14 15]\n",
            " [16 17 18 19 20]\n",
            " [21 22 23 24 25]]\n",
            "[ 6  7  8  9 10]\n",
            "[ 5 10 15 20 25]\n",
            "[[ 1  2]\n",
            " [ 6  7]\n",
            " [11 12]]\n",
            "[11 78 93 15 15 26 23 34 79 75]\n",
            "93\n",
            "11\n",
            "44.9\n",
            "30.611925780649607\n",
            "[[ 1  2  3  4]\n",
            " [ 5  6  7  8]\n",
            " [ 9 10 11 12]]\n",
            "[[2. 3. 4.]\n",
            " [2. 3. 4.]\n",
            " [2. 3. 4.]]\n",
            "Random array: [35 25 40 43  2 22 28  9 46 40 44  4  6  2 38 49  5 10 40  7]\n",
            "Elements divisible by 5: [35 25 40 40  5 10 40]\n",
            "[[19 22]\n",
            " [43 50]]\n",
            "\n",
            "4x4 array:\n",
            " [[ 1  2  3  4]\n",
            " [ 5  6  7  8]\n",
            " [ 9 10 11 12]\n",
            " [13 14 15 16]]\n",
            "Diagonal elements: [ 1  6 11 16]\n"
          ]
        }
      ]
    },
    {
      "cell_type": "markdown",
      "source": [
        "# **PANDAS**"
      ],
      "metadata": {
        "id": "VRcMriHGGvNO"
      }
    },
    {
      "cell_type": "code",
      "source": [],
      "metadata": {
        "id": "sAwEuqxjH-HN"
      },
      "execution_count": null,
      "outputs": []
    }
  ]
}